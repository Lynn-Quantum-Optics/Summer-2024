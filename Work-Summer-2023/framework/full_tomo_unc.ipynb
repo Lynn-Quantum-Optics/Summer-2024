{
 "cells": [
  {
   "cell_type": "code",
   "execution_count": 37,
   "metadata": {},
   "outputs": [
    {
     "ename": "ImportError",
     "evalue": "cannot import name 'ucomplex' from 'uncertainties' (/Library/Frameworks/Python.framework/Versions/3.11/lib/python3.11/site-packages/uncertainties/__init__.py)",
     "output_type": "error",
     "traceback": [
      "\u001b[0;31m---------------------------------------------------------------------------\u001b[0m",
      "\u001b[0;31mImportError\u001b[0m                               Traceback (most recent call last)",
      "Cell \u001b[0;32mIn[37], line 1\u001b[0m\n\u001b[0;32m----> 1\u001b[0m \u001b[39mfrom\u001b[39;00m \u001b[39muncertainties\u001b[39;00m \u001b[39mimport\u001b[39;00m ufloat, ucomplex\n\u001b[1;32m      2\u001b[0m \u001b[39mfrom\u001b[39;00m \u001b[39muncertainties\u001b[39;00m \u001b[39mimport\u001b[39;00m unumpy \u001b[39mas\u001b[39;00m unp\n\u001b[1;32m      3\u001b[0m \u001b[39mimport\u001b[39;00m \u001b[39mnumpy\u001b[39;00m \u001b[39mas\u001b[39;00m \u001b[39mnp\u001b[39;00m\n",
      "\u001b[0;31mImportError\u001b[0m: cannot import name 'ucomplex' from 'uncertainties' (/Library/Frameworks/Python.framework/Versions/3.11/lib/python3.11/site-packages/uncertainties/__init__.py)"
     ]
    }
   ],
   "source": [
    "from uncertainties import ufloat\n",
    "from uncertainties import unumpy as unp\n",
    "import numpy as np"
   ]
  },
  {
   "cell_type": "code",
   "execution_count": 21,
   "metadata": {},
   "outputs": [],
   "source": [
    "counts = np.random.rand(6,6)*1000\n",
    "unc = np.random.rand(6,6)*100\n",
    "\n",
    "data = unp.uarray(counts, unc)"
   ]
  },
  {
   "cell_type": "code",
   "execution_count": 28,
   "metadata": {},
   "outputs": [],
   "source": [
    "def get_projections(raw_data) -> np.ndarray:\n",
    "    # normalize groups of orthonormal measurements to get projections\n",
    "    proj = np.zeros_like(raw_data)\n",
    "    for i in range(0,6,2):\n",
    "        for j in range(0,6,2):\n",
    "            total_rate = np.sum(raw_data[i:i+2, j:j+2])\n",
    "            proj[i:i+2, j:j+2] = raw_data[i:i+2, j:j+2]/total_rate\n",
    "    \n",
    "    # return the projections and uncertainties\n",
    "    return proj"
   ]
  },
  {
   "cell_type": "code",
   "execution_count": 30,
   "metadata": {},
   "outputs": [],
   "source": [
    "proj = get_projections(data)"
   ]
  },
  {
   "cell_type": "code",
   "execution_count": 33,
   "metadata": {},
   "outputs": [],
   "source": [
    "def get_stokes(all_projs:np.ndarray) -> np.ndarray:\n",
    "    # +++ oscar's code\n",
    "\n",
    "    # unpack the projections\n",
    "    HH, HV, HD, HA, HR, HL = all_projs[0]\n",
    "    VH, VV, VD, VA, VR, VL = all_projs[1]\n",
    "    DH, DV, DD, DA, DR, DL = all_projs[2]\n",
    "    AH, AV, AD, AA, AR, AL = all_projs[3]\n",
    "    RH, RV, RD, RA, RR, RL = all_projs[4]\n",
    "    LH, LV, LD, LA, LR, LL = all_projs[5]\n",
    "\n",
    "    # build the stokes's parameters\n",
    "    S = np.zeros((4,4), dtype=object)\n",
    "    S[0,0] = 1\n",
    "    S[0,1] = DD - DA + AD - AA\n",
    "    S[0,2] = RR + LR - RL - LL\n",
    "    S[0,3] = HH - HV + VH - VV\n",
    "    S[1,0] = DD + DA - AD - AA\n",
    "    S[1,1] = DD - DA - AD + AA\n",
    "    S[1,2] = DR - DL - AR + AL\n",
    "    S[1,3] = DH - DV - AH + AV\n",
    "    S[2,0] = RR - LR + RL - LL\n",
    "    S[2,1] = RD - RA - LD + LA\n",
    "    S[2,2] = RR - RL - LR + LL\n",
    "    S[2,3] = RH - RV - LH + LV\n",
    "    S[3,0] = HH + HV - VH - VV\n",
    "    S[3,1] = HD - HA - VD + VA\n",
    "    S[3,2] = HR - HL - VR + VL\n",
    "    S[3,3] = HH - HV - VH + VV\n",
    "\n",
    "    return S"
   ]
  },
  {
   "cell_type": "code",
   "execution_count": 34,
   "metadata": {},
   "outputs": [],
   "source": [
    "S = get_stokes(proj)"
   ]
  },
  {
   "cell_type": "code",
   "execution_count": 50,
   "metadata": {},
   "outputs": [],
   "source": [
    "def reconstruct_rho(stokes) -> np.ndarray:\n",
    "    # define pauli matrices\n",
    "    I = np.eye(2, dtype=complex)\n",
    "    X = np.array([[0, 1], [1, 0]], dtype=complex)\n",
    "    Y = np.array([[0, -1j], [1j, 0]], dtype=complex)\n",
    "    Z = np.array([[1, 0], [0, -1]], dtype=complex)\n",
    "    P = [I, X, Y, Z]\n",
    "\n",
    "    # compute rho uncertainty\n",
    "    rho_real = np.zeros((4,4), dtype=object)\n",
    "    rho_imag = np.zeros((4,4), dtype=object)\n",
    "    \n",
    "    for i1 in range(4):\n",
    "        for i2 in range(4):\n",
    "            rho_real += stokes[i1,i2] * np.array(np.real(np.kron(P[i1],P[i2])), dtype=object)\n",
    "            rho_imag += stokes[i1,i2] * np.array(np.imag(np.kron(P[i1],P[i2])), dtype=object)\n",
    "\n",
    "    # take the sqrt and divide by 4 to get the correct uncertainty\n",
    "    rho_real /= 4\n",
    "    rho_imag /= 4\n",
    "\n",
    "    # return density matrix with uncertainties and the Stokes params unc for witness unc\n",
    "    return rho_real, rho_imag"
   ]
  },
  {
   "cell_type": "code",
   "execution_count": 51,
   "metadata": {},
   "outputs": [
    {
     "data": {
      "text/plain": [
       "(array([[0.3894427878067723+/-0.026130917632550304,\n",
       "         -0.07426704247743696+/-0.02202719301221163,\n",
       "         0.11387965474746084+/-0.042473318704390084,\n",
       "         -0.02625639291633053+/-0.029601580876726857],\n",
       "        [-0.07426704247743696+/-0.02202719301221163,\n",
       "         0.1628831451332889+/-0.00800706943332308,\n",
       "         -0.30646109425783735+/-0.029601580876726857,\n",
       "         -0.07536248342423155+/-0.042473318704390084],\n",
       "        [0.11387965474746084+/-0.042473318704390084,\n",
       "         -0.30646109425783735+/-0.029601580876726857,\n",
       "         0.36104048958447693+/-0.016673550789818244,\n",
       "         0.021723338806733824+/-0.02202719301221163],\n",
       "        [-0.02625639291633053+/-0.029601580876726857,\n",
       "         -0.07536248342423155+/-0.042473318704390084,\n",
       "         0.021723338806733824+/-0.02202719301221163,\n",
       "         0.0866335774754619+/-0.006222434085780625]], dtype=object),\n",
       " array([[0.0+/-0, -0.10911088691297235+/-0.01977139146040142,\n",
       "         0.007629889172164131+/-0.019643682085763857,\n",
       "         -0.022029489052325615+/-0.012878804761788171],\n",
       "        [0.10911088691297235+/-0.01977139146040142, 0.0+/-0,\n",
       "         0.015405657948103224+/-0.012878804761788171,\n",
       "         0.03537985880575735+/-0.019643682085763857],\n",
       "        [-0.007629889172164131+/-0.019643682085763857,\n",
       "         -0.015405657948103224+/-0.012878804761788171, 0.0+/-0,\n",
       "         0.07268834980032324+/-0.01977139146040142],\n",
       "        [0.022029489052325615+/-0.012878804761788171,\n",
       "         -0.03537985880575735+/-0.019643682085763857,\n",
       "         -0.07268834980032324+/-0.01977139146040142, 0.0+/-0]],\n",
       "       dtype=object))"
      ]
     },
     "execution_count": 51,
     "metadata": {},
     "output_type": "execute_result"
    }
   ],
   "source": [
    "reconstruct_rho(S)"
   ]
  },
  {
   "cell_type": "code",
   "execution_count": null,
   "metadata": {},
   "outputs": [],
   "source": []
  },
  {
   "cell_type": "code",
   "execution_count": null,
   "metadata": {},
   "outputs": [],
   "source": []
  }
 ],
 "metadata": {
  "kernelspec": {
   "display_name": "Python 3",
   "language": "python",
   "name": "python3"
  },
  "language_info": {
   "codemirror_mode": {
    "name": "ipython",
    "version": 3
   },
   "file_extension": ".py",
   "mimetype": "text/x-python",
   "name": "python",
   "nbconvert_exporter": "python",
   "pygments_lexer": "ipython3",
   "version": "3.11.2"
  },
  "orig_nbformat": 4
 },
 "nbformat": 4,
 "nbformat_minor": 2
}
